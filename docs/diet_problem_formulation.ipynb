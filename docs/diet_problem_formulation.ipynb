{
 "cells": [
  {
   "cell_type": "markdown",
   "metadata": {},
   "source": [
    "# Diet Problem\n",
    "\n",
    "*Author(s): Name of the author(s)*   \n",
    "*Month, Year*.\n",
    "\n",
    "Problem description goes here.\n",
    "\n",
    "## Problem statement\n",
    "We will present a short description of the diet problem here, but we encourage you to check out on [Wikipedia](https://en.wikipedia.org/wiki/Stigler_diet) for some curious facts about the history of this classic problem.\n",
    "\n",
    "Given a set of foods and a set of nutrients, the goal is to make a selection of foods and the respective quantities to compose the least expensive diet that meets min and max recommended intake of nutrients."
   ]
  },
  {
   "cell_type": "markdown",
   "metadata": {},
   "source": [
    "## Input data\n",
    "\n",
    "### Set of indices\n",
    "- $I$ set of foods.  \n",
    "- $J$ set of nutrients.\n",
    "\n",
    "### Parameters\n",
    "* $c_i$ per unit cost of food $i$.\n",
    "* $nl_j$ minimum intake of nutrient $j$.\n",
    "* $nu_j$ maximum intake of nutrient $j$.\n",
    "* $nq_{ij}$ quantity of nutrient $j$ obtained from food $i$."
   ]
  },
  {
   "cell_type": "markdown",
   "metadata": {},
   "source": [
    "## Formulation\n",
    "The diet problem can be formulated as a Linear Program (LP). If we require the portion of each food to be a whole number (for example, if eggs are part of the diet, $2.5$ eggs might not be acceptable), then the problem becomes a Mixed-Integer Linear Program (MILP).\n",
    "\n",
    "### Decision Variables\n",
    "The only decision to make here is the amount of each food that will compose the diet.\n",
    "- $x_i$: amount of food $i$ to be consumed.\n",
    "\n",
    "### Constraints\n",
    "The only constraint of the diet problem is to ensure that the intake of each nutrient is within the recommended range, which we split into two constraints.\n",
    "\n",
    "C1) Ensure minimum recommended intake of nutrients:\n",
    "    $$\\sum_i nq_{ij}x_i \\geq nl_j, \\quad \\forall j.$$\n",
    "\n",
    "C2) Ensure maximum recommended intake of nutrients:\n",
    "    $$\\sum_i nq_{ij}x_i \\leq nu_j, \\quad \\forall j.$$\n",
    "\n",
    "### Objective\n",
    "The objective is to minimize the total cost of the diet.\n",
    "$$\\min{\\sum_i c_ix_i}.$$"
   ]
  }
 ],
 "metadata": {
  "kernelspec": {
   "display_name": ".mip_template",
   "language": "python",
   "name": "python3"
  },
  "language_info": {
   "codemirror_mode": {
    "name": "ipython",
    "version": 3
   },
   "file_extension": ".py",
   "mimetype": "text/x-python",
   "name": "python",
   "nbconvert_exporter": "python",
   "pygments_lexer": "ipython3",
   "version": "3.11.11"
  }
 },
 "nbformat": 4,
 "nbformat_minor": 2
}
